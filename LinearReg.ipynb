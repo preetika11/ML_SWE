{
 "cells": [
  {
   "cell_type": "code",
   "execution_count": 1,
   "metadata": {},
   "outputs": [],
   "source": [
    "import pandas as pd\n",
    "from sklearn.model_selection import train_test_split\n",
    "from sklearn.linear_model import LinearRegression\n",
    "from sklearn.metrics import mean_squared_error\n",
    "from sklearn.impute import SimpleImputer\n",
    "\n",
    "import seaborn as sns\n",
    "import matplotlib.pyplot as plt\n",
    "import numpy as np\n",
    "\n"
   ]
  },
  {
   "cell_type": "code",
   "execution_count": 2,
   "metadata": {},
   "outputs": [],
   "source": [
    "def train_model(file_name):\n",
    "    #load excel file\n",
    "    xls =  pd.ExcelFile(file_name)\n",
    "\n",
    "    #Read data from each sheet\n",
    "    swe_df = pd.read_excel(xls, 'SWE(in)')\n",
    "    temp_df= pd.read_excel(xls, 'Airtemp(degF)')\n",
    "    precip_df= pd.read_excel(xls, 'Ppt(in)')\n",
    "\n",
    "    #Concatenate dataframes across columns for features (X)\n",
    "    X= pd.concat([temp_df, precip_df], axis=1)\n",
    "\n",
    "    #Use the entire SWE sheet as the target variable (y)\n",
    "    y=swe_df\n",
    "\n",
    "    #Handle missing values in X with mean imputation\n",
    "    imputer_X = SimpleImputer(strategy= 'mean')\n",
    "    X_imputed = imputer_X.fit_transform(X)\n",
    "\n",
    "    #Handle missing values in y with mean imputation\n",
    "    imputer_y = SimpleImputer(strategy='mean')\n",
    "    y_imputed =  imputer_y.fit_transform(y)\n",
    "\n",
    "    #Ensure x and y have same number of samples\n",
    "    min_samples = min(len(X_imputed), len(y_imputed))\n",
    "    X_imputed = X_imputed[:min_samples]\n",
    "    y_imputed = y_imputed[:min_samples]\n",
    "\n",
    "    return X_imputed, y_imputed"
   ]
  },
  {
   "cell_type": "code",
   "execution_count": 4,
   "metadata": {},
   "outputs": [],
   "source": [
    "#Aggregate predictions and actual values across all datasets\n",
    "\n",
    "all_X_test = []\n",
    "all_y_test = []\n",
    "\n",
    "for file_name in [\"Sierra Blanca (1034)_SWE.xlsx\", \"Garita Peak 1173.xlsx\", \"Red river pass.xlsx\", \"Quemazon.xlsx\"]:\n",
    "    X_test, y_test = train_model(file_name)\n",
    "    all_X_test.extend(X_test)\n",
    "    all_y_test.extend(y_test)\n"
   ]
  },
  {
   "cell_type": "code",
   "execution_count": 5,
   "metadata": {},
   "outputs": [],
   "source": [
    "#Split aggregated data into train and test sets\n",
    "X_train, X_test, y_train, y_test = train_test_split(all_X_test, all_y_test, test_size=0.2, random_state=42)"
   ]
  },
  {
   "cell_type": "code",
   "execution_count": 15,
   "metadata": {},
   "outputs": [],
   "source": [
    "#Train the model\n",
    "model= LinearRegression()\n",
    "model.fit(X_train, y_train)\n",
    "\n",
    "#Predict on test set\n",
    "y_pred = model.predict(X_test)"
   ]
  },
  {
   "cell_type": "code",
   "execution_count": 16,
   "metadata": {},
   "outputs": [
    {
     "name": "stdout",
     "output_type": "stream",
     "text": [
      "Mean squaerd error for all files: 2.799160172956734\n"
     ]
    }
   ],
   "source": [
    "#Ensure y_test and y_pred are 1-dimensional arrays\n",
    "y_test = np.ravel(y_test)\n",
    "y_pred = np.ravel(y_pred)\n",
    "\n",
    "\n",
    "#Calculate mean squared error\n",
    "mse = mean_squared_error(y_test, y_pred)\n",
    "print(f\"Mean squaerd error for all files: {mse}\")\n"
   ]
  },
  {
   "cell_type": "code",
   "execution_count": 17,
   "metadata": {},
   "outputs": [
    {
     "data": {
      "text/plain": [
       "<Axes: xlabel='Actual SWE', ylabel='Predicted SWE'>"
      ]
     },
     "execution_count": 17,
     "metadata": {},
     "output_type": "execute_result"
    },
    {
     "data": {
      "image/png": "[encoded data removed]",
      "text/plain": [
       "<Figure size 640x480 with 1 Axes>"
      ]
     },
     "metadata": {},
     "output_type": "display_data"
    }
   ],
   "source": [
    "plot_data = pd.DataFrame({'Actual SWE': y_test, 'Predicted SWE': y_pred})\n",
    "sns.scatterplot(data=plot_data,x='Actual SWE', y='Predicted SWE')"
   ]
  },
  {
   "cell_type": "code",
   "execution_count": null,
   "metadata": {},
   "outputs": [],
   "source": []
  }
 ],
 "metadata": {
  "kernelspec": {
   "display_name": "base",
   "language": "python",
   "name": "python3"
  },
  "language_info": {
   "codemirror_mode": {
    "name": "ipython",
    "version": 3
   },
   "file_extension": ".py",
   "mimetype": "text/x-python",
   "name": "python",
   "nbconvert_exporter": "python",
   "pygments_lexer": "ipython3",
   "version": "3.11.4"
  }
 },
 "nbformat": 4,
 "nbformat_minor": 2
}
