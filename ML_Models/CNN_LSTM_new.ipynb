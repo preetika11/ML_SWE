{
 "cells": [
  {
   "cell_type": "code",
   "execution_count": 38,
   "metadata": {},
   "outputs": [],
   "source": [
    "import pandas as pd\n",
    "import numpy as np\n",
    "import matplotlib.pyplot as plt\n",
    "import seaborn as sns\n",
    "\n",
    "import sklearn\n",
    "from sklearn.model_selection import train_test_split\n",
    "from sklearn.preprocessing import StandardScaler\n",
    "from sklearn.impute import SimpleImputer\n",
    "\n",
    "import tensorflow as tf\n",
    "from tensorflow.keras.models import Sequential\n",
    "from tensorflow.keras.layers import Dense, Conv1D, MaxPooling1D, Flatten, LSTM"
   ]
  },
  {
   "cell_type": "code",
   "execution_count": 39,
   "metadata": {},
   "outputs": [],
   "source": [
    "# Load the dataset\n",
    "file_name = \"2_Q.xlsx\"\n",
    "df = pd.read_excel(file_name)\n",
    "\n",
    "# Preprocess the data\n",
    "X = df[['Precipitation', 'Airtemp']]  # Features\n",
    "y = df['swe']  # Target\n",
    "\n",
    "# Handle missing values\n",
    "imputer_X = SimpleImputer(strategy='mean')\n",
    "X_imputed = imputer_X.fit_transform(X)\n",
    "\n",
    "imputer_y = SimpleImputer(strategy='mean')\n",
    "y_imputed = imputer_y.fit_transform(y.values.reshape(-1, 1)).ravel()\n",
    "\n",
    "# Normalize the features\n",
    "X_scaled = (X_imputed - X_imputed.mean(axis=0)) / X_imputed.std(axis=0)\n",
    "\n",
    "# Define the sequence length (number of time steps)\n",
    "sequence_length = 5  \n",
    "\n",
    "# Reshape the data for CNN\n",
    "X_reshaped = []\n",
    "y_reshaped = []\n",
    "for i in range(len(X_scaled) - sequence_length + 1):\n",
    "    X_reshaped.append(X_scaled[i:i + sequence_length])\n",
    "    y_reshaped.append(y_imputed[i + sequence_length - 1])\n",
    "\n",
    "X_reshaped = np.array(X_reshaped)\n",
    "y_reshaped = np.array(y_reshaped)\n",
    "\n",
    "# Split the data into training and testing sets\n",
    "split_index = int(0.8 * len(X_reshaped))\n",
    "X_train, X_test = X_reshaped[:split_index], X_reshaped[split_index:]\n",
    "y_train, y_test = y_reshaped[:split_index], y_reshaped[split_index:]\n"
   ]
  },
  {
   "cell_type": "code",
   "execution_count": 40,
   "metadata": {},
   "outputs": [
    {
     "name": "stderr",
     "output_type": "stream",
     "text": [
      "c:\\Users\\pkaur\\AppData\\Local\\anaconda3\\Lib\\site-packages\\keras\\src\\layers\\convolutional\\base_conv.py:99: UserWarning: Do not pass an `input_shape`/`input_dim` argument to a layer. When using Sequential models, prefer using an `Input(shape)` object as the first layer in the model instead.\n",
      "  super().__init__(\n"
     ]
    }
   ],
   "source": [
    "# Define the model\n",
    "cnn_model = Sequential([\n",
    "    Conv1D(filters=64, kernel_size=3, activation='relu', padding='same', input_shape=(X_train.shape[1], 1)),\n",
    "    MaxPooling1D(pool_size=2),\n",
    "    Flatten(),\n",
    "    Dense(32, activation='relu'),\n",
    "    Dense(1)\n",
    "])\n"
   ]
  },
  {
   "cell_type": "code",
   "execution_count": null,
   "metadata": {},
   "outputs": [],
   "source": []
  },
  {
   "cell_type": "code",
   "execution_count": 41,
   "metadata": {},
   "outputs": [
    {
     "name": "stdout",
     "output_type": "stream",
     "text": [
      "\u001b[1m80/80\u001b[0m \u001b[32m━━━━━━━━━━━━━━━━━━━━\u001b[0m\u001b[37m\u001b[0m \u001b[1m0s\u001b[0m 1ms/step - loss: 2.9500  \n",
      "CNN-LSTM Model MSE: 2.82832407951355\n"
     ]
    }
   ],
   "source": [
    "# Define the model\n",
    "cnn_lstm_model = Sequential([\n",
    "    Conv1D(filters=64, kernel_size=3, activation='relu', input_shape=(X_train.shape[1], X_train.shape[2])),\n",
    "    MaxPooling1D(pool_size=2),\n",
    "    LSTM(64, activation='relu'),\n",
    "    Dense(32, activation='relu'),\n",
    "    Dense(1)\n",
    "])\n",
    "\n",
    "# Compile the model\n",
    "cnn_lstm_model.compile(optimizer='adam', loss='mean_squared_error')\n",
    "\n",
    "# Train the model\n",
    "cnn_lstm_history = cnn_lstm_model.fit(X_train, y_train, validation_split=0.2, epochs=50, batch_size=32, verbose=0)\n",
    "\n",
    "# Evaluate the model\n",
    "cnn_lstm_loss = cnn_lstm_model.evaluate(X_test, y_test)\n",
    "print(\"CNN-LSTM Model MSE:\", cnn_lstm_loss)\n",
    "mse= cnn_lstm_loss"
   ]
  },
  {
   "cell_type": "code",
   "execution_count": 42,
   "metadata": {},
   "outputs": [
    {
     "name": "stdout",
     "output_type": "stream",
     "text": [
      "\u001b[1m80/80\u001b[0m \u001b[32m━━━━━━━━━━━━━━━━━━━━\u001b[0m\u001b[37m\u001b[0m \u001b[1m0s\u001b[0m 3ms/step\n"
     ]
    }
   ],
   "source": [
    "mse= cnn_lstm_loss\n",
    "\n",
    "y_pred = cnn_lstm_model.predict(X_test)\n",
    "\n",
    "#Ensure y_test and y_pred are 1-dimensional arrays\n",
    "y_test_flat = np.ravel(y_test)\n",
    "y_pred_flat = np.ravel(y_pred)"
   ]
  },
  {
   "cell_type": "code",
   "execution_count": 43,
   "metadata": {},
   "outputs": [
    {
     "data": {
      "text/plain": [
       "Text(0.5, 1.0, 'Garita Peak')"
      ]
     },
     "execution_count": 43,
     "metadata": {},
     "output_type": "execute_result"
    },
    {
     "data": {
      "image/png": "[encoded data removed]",
      "text/plain": [
       "<Figure size 640x480 with 1 Axes>"
      ]
     },
     "metadata": {},
     "output_type": "display_data"
    }
   ],
   "source": [
    "plot_data = pd.DataFrame({'Actual SWE': y_test_flat, 'Predicted SWE': y_pred_flat})\n",
    "sns.scatterplot(data=plot_data,x='Actual SWE', y='Predicted SWE')\n",
    "sns.regplot(data=plot_data, x='Actual SWE', y='Predicted SWE', scatter=False, color='navy')\n",
    "plt.text(0.1, 0.9, f'MSE: {mse:.2f}', transform=plt.gca().transAxes, fontsize=12, color='red')\n",
    "plt.title('Garita Peak')"
   ]
  },
  {
   "cell_type": "code",
   "execution_count": null,
   "metadata": {},
   "outputs": [],
   "source": []
  }
 ],
 "metadata": {
  "kernelspec": {
   "display_name": "base",
   "language": "python",
   "name": "python3"
  },
  "language_info": {
   "codemirror_mode": {
    "name": "ipython",
    "version": 3
   },
   "file_extension": ".py",
   "mimetype": "text/x-python",
   "name": "python",
   "nbconvert_exporter": "python",
   "pygments_lexer": "ipython3",
   "version": "3.11.4"
  }
 },
 "nbformat": 4,
 "nbformat_minor": 2
}
